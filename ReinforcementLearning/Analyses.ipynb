{
 "cells": [
  {
   "cell_type": "code",
   "execution_count": 18,
   "metadata": {},
   "outputs": [],
   "source": [
    "%matplotlib inline\n",
    "import pandas as pd"
   ]
  },
  {
   "cell_type": "code",
   "execution_count": 67,
   "metadata": {},
   "outputs": [
    {
     "data": {
      "image/png": "[encoded data removed]",
      "text/plain": [
       "<matplotlib.figure.Figure at 0x7f5b7cbe96d8>"
      ]
     },
     "metadata": {
      "needs_background": "light"
     },
     "output_type": "display_data"
    }
   ],
   "source": [
    "id = 830\n",
    "df = pd.read_csv('best_episodes.csv')\n",
    "id = id or df['episode_i'].max()\n",
    "xyztime = df[df['episode_i'] == id]\n",
    "\n",
    "import matplotlib.pyplot as plt\n",
    "\n",
    "fig, axs = plt.subplots(2, 2)\n",
    "fig.suptitle('Episode {}'.format(id))\n",
    "\n",
    "axs[0,0].plot(xyztime.time, xyztime.x)\n",
    "axs[0,0].set_xlabel('time')\n",
    "axs[0,0].set_ylabel('x')\n",
    "\n",
    "axs[0,0].plot(xyztime.time, xyztime.y)\n",
    "axs[0,0].set_xlabel('time')\n",
    "axs[0,0].set_ylabel('y')\n",
    "\n",
    "axs[0,0].legend()\n",
    "\n",
    "axs[0, 1].plot(xyztime.time, xyztime.z)\n",
    "axs[0, 1].set_xlabel('time')\n",
    "axs[0, 1].set_ylabel('z')\n",
    "\n",
    "\n",
    "axs[1, 0].plot(xyztime.time, xyztime.phi_velocity)\n",
    "axs[1, 0].plot(xyztime.time, xyztime.theta_velocity)\n",
    "axs[1, 0].plot(xyztime.time, xyztime.psi_velocity)\n",
    "axs[1, 0].set_xlabel('time')\n",
    "axs[1, 0].set_ylabel('z')\n",
    "axs[1, 0].legend()\n",
    "\n",
    "\n",
    "axs[1, 1].plot(xyztime.time, xyztime.phi)\n",
    "axs[1, 1].plot(xyztime.time, xyztime.theta)\n",
    "axs[1, 1].plot(xyztime.time, xyztime.psi)\n",
    "axs[1, 1].set_xlabel('time')\n",
    "axs[1, 1].set_ylabel('z')\n",
    "axs[1,1].legend()\n",
    "\n",
    "fig.tight_layout()"
   ]
  },
  {
   "cell_type": "code",
   "execution_count": 66,
   "metadata": {},
   "outputs": [
    {
     "data": {
      "text/html": [
       "<div>\n",
       "<style scoped>\n",
       "    .dataframe tbody tr th:only-of-type {\n",
       "        vertical-align: middle;\n",
       "    }\n",
       "\n",
       "    .dataframe tbody tr th {\n",
       "        vertical-align: top;\n",
       "    }\n",
       "\n",
       "    .dataframe thead th {\n",
       "        text-align: right;\n",
       "    }\n",
       "</style>\n",
       "<table border=\"1\" class=\"dataframe\">\n",
       "  <thead>\n",
       "    <tr style=\"text-align: right;\">\n",
       "      <th></th>\n",
       "      <th>episode_i</th>\n",
       "      <th>reward</th>\n",
       "      <th>time</th>\n",
       "      <th>x</th>\n",
       "      <th>y</th>\n",
       "      <th>z</th>\n",
       "      <th>phi</th>\n",
       "      <th>theta</th>\n",
       "      <th>psi</th>\n",
       "      <th>x_velocity</th>\n",
       "      <th>y_velocity</th>\n",
       "      <th>z_velocity</th>\n",
       "      <th>phi_velocity</th>\n",
       "      <th>theta_velocity</th>\n",
       "      <th>psi_velocity</th>\n",
       "      <th>rotor_speed1</th>\n",
       "      <th>rotor_speed2</th>\n",
       "      <th>rotor_speed3</th>\n",
       "      <th>rotor_speed4</th>\n",
       "    </tr>\n",
       "  </thead>\n",
       "  <tbody>\n",
       "    <tr>\n",
       "      <th>32</th>\n",
       "      <td>830</td>\n",
       "      <td>0.640397</td>\n",
       "      <td>0.06</td>\n",
       "      <td>-0.000351</td>\n",
       "      <td>1.301467e-09</td>\n",
       "      <td>0.025102</td>\n",
       "      <td>8.190869e-07</td>\n",
       "      <td>0.035782</td>\n",
       "      <td>0.0</td>\n",
       "      <td>-0.020377</td>\n",
       "      <td>1.300577e-07</td>\n",
       "      <td>0.836397</td>\n",
       "      <td>0.000041</td>\n",
       "      <td>-0.527281</td>\n",
       "      <td>0.0</td>\n",
       "      <td>899.775030</td>\n",
       "      <td>878.148466</td>\n",
       "      <td>0.222639</td>\n",
       "      <td>1.743537</td>\n",
       "    </tr>\n",
       "    <tr>\n",
       "      <th>33</th>\n",
       "      <td>830</td>\n",
       "      <td>1.667653</td>\n",
       "      <td>0.12</td>\n",
       "      <td>-0.003012</td>\n",
       "      <td>6.598008e-08</td>\n",
       "      <td>0.100630</td>\n",
       "      <td>4.649580e-06</td>\n",
       "      <td>0.017388</td>\n",
       "      <td>0.0</td>\n",
       "      <td>-0.065175</td>\n",
       "      <td>2.690737e-06</td>\n",
       "      <td>1.680470</td>\n",
       "      <td>0.000110</td>\n",
       "      <td>-0.875741</td>\n",
       "      <td>0.0</td>\n",
       "      <td>899.847968</td>\n",
       "      <td>885.413960</td>\n",
       "      <td>0.004416</td>\n",
       "      <td>2.276374</td>\n",
       "    </tr>\n",
       "    <tr>\n",
       "      <th>34</th>\n",
       "      <td>830</td>\n",
       "      <td>2.069673</td>\n",
       "      <td>0.18</td>\n",
       "      <td>-0.010593</td>\n",
       "      <td>4.603727e-07</td>\n",
       "      <td>0.223604</td>\n",
       "      <td>1.133283e-05</td>\n",
       "      <td>0.385464</td>\n",
       "      <td>0.0</td>\n",
       "      <td>-0.263749</td>\n",
       "      <td>1.165823e-05</td>\n",
       "      <td>2.406190</td>\n",
       "      <td>0.000115</td>\n",
       "      <td>-2.525929</td>\n",
       "      <td>0.0</td>\n",
       "      <td>899.095623</td>\n",
       "      <td>828.269804</td>\n",
       "      <td>1.243187</td>\n",
       "      <td>1.391733</td>\n",
       "    </tr>\n",
       "    <tr>\n",
       "      <th>35</th>\n",
       "      <td>830</td>\n",
       "      <td>2.745948</td>\n",
       "      <td>0.24</td>\n",
       "      <td>-0.041528</td>\n",
       "      <td>1.754256e-06</td>\n",
       "      <td>0.390722</td>\n",
       "      <td>6.928548e-05</td>\n",
       "      <td>0.234824</td>\n",
       "      <td>0.0</td>\n",
       "      <td>-0.736234</td>\n",
       "      <td>3.827548e-05</td>\n",
       "      <td>3.172954</td>\n",
       "      <td>0.002614</td>\n",
       "      <td>-2.490905</td>\n",
       "      <td>0.0</td>\n",
       "      <td>899.859739</td>\n",
       "      <td>897.912362</td>\n",
       "      <td>0.016173</td>\n",
       "      <td>13.570687</td>\n",
       "    </tr>\n",
       "    <tr>\n",
       "      <th>36</th>\n",
       "      <td>830</td>\n",
       "      <td>3.000000</td>\n",
       "      <td>0.30</td>\n",
       "      <td>-0.109273</td>\n",
       "      <td>4.015379e-04</td>\n",
       "      <td>0.599938</td>\n",
       "      <td>9.002239e-02</td>\n",
       "      <td>2.117954</td>\n",
       "      <td>0.0</td>\n",
       "      <td>-1.796525</td>\n",
       "      <td>1.511995e-02</td>\n",
       "      <td>3.486706</td>\n",
       "      <td>-0.793940</td>\n",
       "      <td>0.941182</td>\n",
       "      <td>0.0</td>\n",
       "      <td>0.284469</td>\n",
       "      <td>497.474956</td>\n",
       "      <td>895.495740</td>\n",
       "      <td>862.429218</td>\n",
       "    </tr>\n",
       "  </tbody>\n",
       "</table>\n",
       "</div>"
      ],
      "text/plain": [
       "    episode_i    reward  time         x             y         z           phi  \\\n",
       "32        830  0.640397  0.06 -0.000351  1.301467e-09  0.025102  8.190869e-07   \n",
       "33        830  1.667653  0.12 -0.003012  6.598008e-08  0.100630  4.649580e-06   \n",
       "34        830  2.069673  0.18 -0.010593  4.603727e-07  0.223604  1.133283e-05   \n",
       "35        830  2.745948  0.24 -0.041528  1.754256e-06  0.390722  6.928548e-05   \n",
       "36        830  3.000000  0.30 -0.109273  4.015379e-04  0.599938  9.002239e-02   \n",
       "\n",
       "       theta  psi  x_velocity    y_velocity  z_velocity  phi_velocity  \\\n",
       "32  0.035782  0.0   -0.020377  1.300577e-07    0.836397      0.000041   \n",
       "33  0.017388  0.0   -0.065175  2.690737e-06    1.680470      0.000110   \n",
       "34  0.385464  0.0   -0.263749  1.165823e-05    2.406190      0.000115   \n",
       "35  0.234824  0.0   -0.736234  3.827548e-05    3.172954      0.002614   \n",
       "36  2.117954  0.0   -1.796525  1.511995e-02    3.486706     -0.793940   \n",
       "\n",
       "    theta_velocity  psi_velocity  rotor_speed1  rotor_speed2  rotor_speed3  \\\n",
       "32       -0.527281           0.0    899.775030    878.148466      0.222639   \n",
       "33       -0.875741           0.0    899.847968    885.413960      0.004416   \n",
       "34       -2.525929           0.0    899.095623    828.269804      1.243187   \n",
       "35       -2.490905           0.0    899.859739    897.912362      0.016173   \n",
       "36        0.941182           0.0      0.284469    497.474956    895.495740   \n",
       "\n",
       "    rotor_speed4  \n",
       "32      1.743537  \n",
       "33      2.276374  \n",
       "34      1.391733  \n",
       "35     13.570687  \n",
       "36    862.429218  "
      ]
     },
     "execution_count": 66,
     "metadata": {},
     "output_type": "execute_result"
    }
   ],
   "source": [
    "df[df['episode_i'] == id].head()"
   ]
  },
  {
   "cell_type": "code",
   "execution_count": 68,
   "metadata": {},
   "outputs": [
    {
     "data": {
      "text/plain": [
       "[<matplotlib.lines.Line2D at 0x7f5b7c4d1208>]"
      ]
     },
     "execution_count": 68,
     "metadata": {},
     "output_type": "execute_result"
    },
    {
     "data": {
      "image/png": "[encoded data removed]",
      "text/plain": [
       "<matplotlib.figure.Figure at 0x7f5b7c620ef0>"
      ]
     },
     "metadata": {
      "needs_background": "light"
     },
     "output_type": "display_data"
    }
   ],
   "source": [
    "plt.plot(df['episode_i'], df['reward'])"
   ]
  },
  {
   "cell_type": "code",
   "execution_count": null,
   "metadata": {},
   "outputs": [],
   "source": []
  }
 ],
 "metadata": {
  "kernelspec": {
   "display_name": "Python 3",
   "language": "python",
   "name": "python3"
  },
  "language_info": {
   "codemirror_mode": {
    "name": "ipython",
    "version": 3
   },
   "file_extension": ".py",
   "mimetype": "text/x-python",
   "name": "python",
   "nbconvert_exporter": "python",
   "pygments_lexer": "ipython3",
   "version": "3.6.3"
  }
 },
 "nbformat": 4,
 "nbformat_minor": 2
}
